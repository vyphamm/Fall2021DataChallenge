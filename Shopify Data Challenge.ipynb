{
 "cells": [
  {
   "cell_type": "markdown",
   "metadata": {},
   "source": [
    "# Shopify Data challenge\n",
    "By: Vy Khanh Pham "
   ]
  },
  {
   "cell_type": "markdown",
   "metadata": {},
   "source": [
    "# Part 1 "
   ]
  },
  {
   "cell_type": "markdown",
   "metadata": {},
   "source": [
    "## Problem"
   ]
  },
  {
   "cell_type": "markdown",
   "metadata": {},
   "source": [
    "On Shopify, we have exactly 100 sneaker shops, and each of these shops sells only one model of shoe. We want to do some analysis of the average order value (AOV). When we look at orders data over a 30 day window, we naively calculate an AOV of $3145.13. Given that we know these shops are selling sneakers, a relatively affordable item, something seems wrong with our analysis. \n",
    "\n",
    "1. Think about what could be going wrong with our calculation. Think about a better way to evaluate this data. \n",
    "2. What metric would you report for this dataset?\n",
    "3. What is its value?"
   ]
  },
  {
   "cell_type": "markdown",
   "metadata": {},
   "source": [
    "## Short Answer: \n",
    "\n",
    "The AOV was originally calculated by averaging the `order_amount` which resulted in a big number like $3145. This is because **mean is sensitive to outliers** and it is not a robust measure of central tendency. So... what do we do?\n",
    "\n",
    "Here are three possible solutions/approaches: \n",
    "1. I would recommend to use the **median**, which is a more robust measure of central tendency as it is not sensitive to outliers. \n",
    "\n",
    "2. **Log transformation** can also be used to transform skewed data to approximately conform to normality. We can use log to transform the data, find its average, and use log inverse to get it in the original units.\n",
    "\n",
    "3. Another solution is to find the mean of `order_amount` after **removing outliers**, although this might not be the best approach. Read below for more explanations!\n",
    "\n",
    "Values based on approaches: \n",
    "1. Median approach: $\\$284$ **(This is the metric I would report.)**\n",
    "\n",
    "2. Log transformation approach (Mean): $\\$285.02$ \n",
    "\n",
    "3. Removing outliers approach (Mean):  $\\$293.72$"
   ]
  },
  {
   "cell_type": "markdown",
   "metadata": {},
   "source": [
    "## Work and Further Explanation"
   ]
  },
  {
   "cell_type": "code",
   "execution_count": 12,
   "metadata": {},
   "outputs": [],
   "source": [
    "import pandas as pd\n",
    "import numpy as np\n",
    "import plotly.express as px\n",
    "import seaborn as sns\n",
    "import matplotlib.pyplot as plt\n",
    "from matplotlib.pyplot import figure\n",
    "import warnings\n",
    "warnings.filterwarnings('ignore')\n",
    "shoe_store_data_dir = \"ShopifyShoeDataset.csv\""
   ]
  },
  {
   "cell_type": "code",
   "execution_count": 13,
   "metadata": {},
   "outputs": [],
   "source": [
    "shoe_store_df = pd.read_csv(shoe_store_data_dir)"
   ]
  },
  {
   "cell_type": "markdown",
   "metadata": {},
   "source": [
    "### Part A "
   ]
  },
  {
   "cell_type": "markdown",
   "metadata": {},
   "source": [
    "**Question:** Think about what could be going wrong with our calculation. Think about a better way to evaluate this data. "
   ]
  },
  {
   "cell_type": "markdown",
   "metadata": {},
   "source": [
    "**Explanation**: From `describe()` we can see that the AOV or mean is $\\$3,145.13$.The mean, standard deviation, and maximum values are huge relative to the median. Upon plotting the box plot (used log transformation for better visualization) we can verify that the outliers are influencing our results. How? We are using the **mean** which is highly sensitive to outliers. \n",
    "\n",
    "Looking closer at the data, we see that the $\\$704,000$ refers to a large order of 2000 coming from the same user and shop with an average value of  $\\$352$. This appears to be a buyer that's perhaps purchasing wholesale for their own business, which is not the typically behavior of an average buyer. "
   ]
  },
  {
   "cell_type": "markdown",
   "metadata": {},
   "source": [
    "**Work**: "
   ]
  },
  {
   "cell_type": "code",
   "execution_count": 14,
   "metadata": {
    "scrolled": true
   },
   "outputs": [
    {
     "data": {
      "text/plain": [
       "count      5000.000000\n",
       "mean       3145.128000\n",
       "std       41282.539349\n",
       "min          90.000000\n",
       "25%         163.000000\n",
       "50%         284.000000\n",
       "75%         390.000000\n",
       "max      704000.000000\n",
       "Name: order_amount, dtype: float64"
      ]
     },
     "execution_count": 14,
     "metadata": {},
     "output_type": "execute_result"
    }
   ],
   "source": [
    "shoe_store_df.order_amount.describe()"
   ]
  },
  {
   "cell_type": "markdown",
   "metadata": {},
   "source": [
    "Since are outliers are huge, I decided to do a log transformation to better present the distribution of `order_amount`."
   ]
  },
  {
   "cell_type": "code",
   "execution_count": 15,
   "metadata": {},
   "outputs": [],
   "source": [
    "df_log = np.log(shoe_store_df[['order_amount']].rename(columns={'order_amount' : 'Log order Amount'}))"
   ]
  },
  {
   "cell_type": "code",
   "execution_count": 16,
   "metadata": {},
   "outputs": [
    {
     "data": {
      "text/plain": [
       "Text(0.5, 1.0, 'Distribution of Order Amount (Log)')"
      ]
     },
     "execution_count": 16,
     "metadata": {},
     "output_type": "execute_result"
    },
    {
     "data": {
      "image/png": "[encoded data removed]",
      "text/plain": [
       "<Figure size 800x240 with 1 Axes>"
      ]
     },
     "metadata": {},
     "output_type": "display_data"
    }
   ],
   "source": [
    "figure(figsize=(10, 3), dpi=80)\n",
    "sns.set_theme()\n",
    "sns.boxplot(x=df_log['Log order Amount']).set_title(\"Distribution of Order Amount (Log)\")"
   ]
  },
  {
   "cell_type": "markdown",
   "metadata": {},
   "source": [
    "Here is also another visulation that helps us understand the distribution. Below, I ploted total_items vs order_amount including and then excluding the extremely large order of 2,000 shoes. Interesting, we see some really high order amount even for relatively low number of items per order.  "
   ]
  },
  {
   "cell_type": "code",
   "execution_count": 17,
   "metadata": {},
   "outputs": [
    {
     "data": {
      "text/plain": [
       "Text(0.5, 1.0, 'Total Items vs Order Amount')"
      ]
     },
     "execution_count": 17,
     "metadata": {},
     "output_type": "execute_result"
    },
    {
     "data": {
      "image/png": "[encoded data removed]",
      "text/plain": [
       "<Figure size 432x288 with 1 Axes>"
      ]
     },
     "metadata": {},
     "output_type": "display_data"
    }
   ],
   "source": [
    "(sns.scatterplot(data = shoe_store_df, \n",
    "                 x= \"total_items\", \n",
    "                 y=\"order_amount\",\n",
    "                 ).set_title(\"Total Items vs Order Amount\")\n",
    ")"
   ]
  },
  {
   "cell_type": "markdown",
   "metadata": {},
   "source": [
    "Here, I'm using jitter to help us see the individual data slightly better. We can see that there are outliers in the order_amount that's driving the average upward. This is also excluding the super large oders. "
   ]
  },
  {
   "cell_type": "code",
   "execution_count": 19,
   "metadata": {},
   "outputs": [
    {
     "data": {
      "text/plain": [
       "<AxesSubplot:xlabel='total_items', ylabel='order_amount'>"
      ]
     },
     "execution_count": 19,
     "metadata": {},
     "output_type": "execute_result"
    },
    {
     "data": {
      "image/png": "[encoded data removed]",
      "text/plain": [
       "<Figure size 432x288 with 1 Axes>"
      ]
     },
     "metadata": {},
     "output_type": "display_data"
    }
   ],
   "source": [
    "sns.regplot(data = shoe_store_df[shoe_store_df['total_items'] != 2000], x = 'total_items', y = 'order_amount', fit_reg = False,\n",
    "           x_jitter = 0.3, y_jitter = 0.3, scatter_kws = {'alpha' : 1/3})"
   ]
  },
  {
   "cell_type": "markdown",
   "metadata": {},
   "source": [
    "Let's look at our outliers. It appears to be bulk orders. "
   ]
  },
  {
   "cell_type": "code",
   "execution_count": 8,
   "metadata": {},
   "outputs": [
    {
     "data": {
      "text/html": [
       "<div>\n",
       "<style scoped>\n",
       "    .dataframe tbody tr th:only-of-type {\n",
       "        vertical-align: middle;\n",
       "    }\n",
       "\n",
       "    .dataframe tbody tr th {\n",
       "        vertical-align: top;\n",
       "    }\n",
       "\n",
       "    .dataframe thead th {\n",
       "        text-align: right;\n",
       "    }\n",
       "</style>\n",
       "<table border=\"1\" class=\"dataframe\">\n",
       "  <thead>\n",
       "    <tr style=\"text-align: right;\">\n",
       "      <th></th>\n",
       "      <th>order_id</th>\n",
       "      <th>shop_id</th>\n",
       "      <th>user_id</th>\n",
       "      <th>order_amount</th>\n",
       "      <th>total_items</th>\n",
       "      <th>payment_method</th>\n",
       "      <th>created_at</th>\n",
       "    </tr>\n",
       "  </thead>\n",
       "  <tbody>\n",
       "    <tr>\n",
       "      <th>2153</th>\n",
       "      <td>2154</td>\n",
       "      <td>42</td>\n",
       "      <td>607</td>\n",
       "      <td>704000</td>\n",
       "      <td>2000</td>\n",
       "      <td>credit_card</td>\n",
       "      <td>2017-03-12 4:00:00</td>\n",
       "    </tr>\n",
       "    <tr>\n",
       "      <th>3332</th>\n",
       "      <td>3333</td>\n",
       "      <td>42</td>\n",
       "      <td>607</td>\n",
       "      <td>704000</td>\n",
       "      <td>2000</td>\n",
       "      <td>credit_card</td>\n",
       "      <td>2017-03-24 4:00:00</td>\n",
       "    </tr>\n",
       "    <tr>\n",
       "      <th>520</th>\n",
       "      <td>521</td>\n",
       "      <td>42</td>\n",
       "      <td>607</td>\n",
       "      <td>704000</td>\n",
       "      <td>2000</td>\n",
       "      <td>credit_card</td>\n",
       "      <td>2017-03-02 4:00:00</td>\n",
       "    </tr>\n",
       "    <tr>\n",
       "      <th>1602</th>\n",
       "      <td>1603</td>\n",
       "      <td>42</td>\n",
       "      <td>607</td>\n",
       "      <td>704000</td>\n",
       "      <td>2000</td>\n",
       "      <td>credit_card</td>\n",
       "      <td>2017-03-17 4:00:00</td>\n",
       "    </tr>\n",
       "  </tbody>\n",
       "</table>\n",
       "</div>"
      ],
      "text/plain": [
       "      order_id  shop_id  user_id  order_amount  total_items payment_method  \\\n",
       "2153      2154       42      607        704000         2000    credit_card   \n",
       "3332      3333       42      607        704000         2000    credit_card   \n",
       "520        521       42      607        704000         2000    credit_card   \n",
       "1602      1603       42      607        704000         2000    credit_card   \n",
       "\n",
       "              created_at  \n",
       "2153  2017-03-12 4:00:00  \n",
       "3332  2017-03-24 4:00:00  \n",
       "520   2017-03-02 4:00:00  \n",
       "1602  2017-03-17 4:00:00  "
      ]
     },
     "execution_count": 8,
     "metadata": {},
     "output_type": "execute_result"
    }
   ],
   "source": [
    "shoe_store_df.sort_values('order_amount', ascending=False).head(4)"
   ]
  },
  {
   "cell_type": "code",
   "execution_count": 9,
   "metadata": {},
   "outputs": [
    {
     "data": {
      "text/plain": [
       "352.0"
      ]
     },
     "execution_count": 9,
     "metadata": {},
     "output_type": "execute_result"
    }
   ],
   "source": [
    "704000 / 2000 # Average value per shoe "
   ]
  },
  {
   "cell_type": "markdown",
   "metadata": {},
   "source": [
    "### Part B and C:  Approach and Values"
   ]
  },
  {
   "cell_type": "markdown",
   "metadata": {},
   "source": [
    "### Approach 1: Finding the median"
   ]
  },
  {
   "cell_type": "markdown",
   "metadata": {},
   "source": [
    "The mean is not a robust statistics because it is highly sensitive to outliers and non-normal distributions. This mean that extremely large values can \"drag\" the mean up and extremely low values can \"drag\" the mean down. \n",
    "The median on the other hand is a robust statistic as it is not sensitive to outliers. "
   ]
  },
  {
   "cell_type": "code",
   "execution_count": 10,
   "metadata": {
    "scrolled": true
   },
   "outputs": [
    {
     "data": {
      "text/plain": [
       "284.0"
      ]
     },
     "execution_count": 10,
     "metadata": {},
     "output_type": "execute_result"
    }
   ],
   "source": [
    "np.median(shoe_store_df['order_amount'])"
   ]
  },
  {
   "cell_type": "markdown",
   "metadata": {},
   "source": [
    "### Approach 2: Log Transformation"
   ]
  },
  {
   "cell_type": "markdown",
   "metadata": {},
   "source": [
    "There are many other transformations out there but log transformation is often used to transform skewed data to approximately conform to normality. With this in mind, I will find the average log order amount and then transform it back to the original units using exponential. "
   ]
  },
  {
   "cell_type": "code",
   "execution_count": 11,
   "metadata": {},
   "outputs": [
    {
     "data": {
      "text/plain": [
       "285.0204747254945"
      ]
     },
     "execution_count": 11,
     "metadata": {},
     "output_type": "execute_result"
    }
   ],
   "source": [
    "log_avg = np.mean(np.log(shoe_store_df['order_amount'])) # Log transformation and then average\n",
    "np.exp(log_avg) #Transform back to normal!"
   ]
  },
  {
   "cell_type": "markdown",
   "metadata": {},
   "source": [
    "### Approach 3: Removing Outliers \n",
    "\n",
    "**Explanation**: \n",
    "\n",
    "Although this is a plausible approach to dealing with outliers in calculating AOV, there are many isssues with this. \n",
    "1. If the outlier data are legitamite samples, they can be informative and can provide other insights. \n",
    "2. With a small dataset, removing outliers can significantly change the outcome. Deleting them could bias our result significantly. \n",
    "3. High computational cost when we're dealing with a larger dataset or may not be feasible when dealing with real-time data. \n",
    "\n",
    "To exclude the outliers, I calculated Quartile 1 (25th percentile) and Quartile 3 (75th percentile). Then I calculated the IQR (Interquartile range). I calculated the lower and upper fences of $[-177.5, 730.5]$. This means that any data that lies outside of this range is considered to be an outlier. \n",
    "\n",
    "After removing the outliers, we received the AOV of **$\\$293.71$** with 141 outliers dropped. using `describe()` for `order_amount` with no outliers, we now have a standard deviation of around **$\\$144.45$** , much lower than before!"
   ]
  },
  {
   "cell_type": "markdown",
   "metadata": {},
   "source": [
    "**Work**:"
   ]
  },
  {
   "cell_type": "code",
   "execution_count": 12,
   "metadata": {},
   "outputs": [],
   "source": [
    "df = shoe_store_df['order_amount']"
   ]
  },
  {
   "cell_type": "code",
   "execution_count": 13,
   "metadata": {},
   "outputs": [
    {
     "data": {
      "text/plain": [
       "(-177.5, 730.5)"
      ]
     },
     "execution_count": 13,
     "metadata": {},
     "output_type": "execute_result"
    }
   ],
   "source": [
    "Q1 = df.quantile(0.25)\n",
    "Q3 = df.quantile(0.75)\n",
    "IQR = Q3 - Q1\n",
    "Q1 - 1.5 * IQR, Q3 + 1.5 * IQR"
   ]
  },
  {
   "cell_type": "code",
   "execution_count": 14,
   "metadata": {},
   "outputs": [
    {
     "data": {
      "text/plain": [
       "293.7153735336489"
      ]
     },
     "execution_count": 14,
     "metadata": {},
     "output_type": "execute_result"
    }
   ],
   "source": [
    "df_without_outliers = df[df.between(Q1 - 1.5 * IQR, Q3 + 1.5 * IQR)]\n",
    "np.mean(df_without_outliers)"
   ]
  },
  {
   "cell_type": "markdown",
   "metadata": {},
   "source": [
    "From this approach, we ended up dropping 141 data points. "
   ]
  },
  {
   "cell_type": "code",
   "execution_count": 15,
   "metadata": {},
   "outputs": [
    {
     "data": {
      "text/plain": [
       "141"
      ]
     },
     "execution_count": 15,
     "metadata": {},
     "output_type": "execute_result"
    }
   ],
   "source": [
    "len(df) - len(df_without_outliers)"
   ]
  },
  {
   "cell_type": "code",
   "execution_count": 16,
   "metadata": {},
   "outputs": [
    {
     "data": {
      "text/plain": [
       "count    4859.000000\n",
       "mean      293.715374\n",
       "std       144.453395\n",
       "min        90.000000\n",
       "25%       162.000000\n",
       "50%       280.000000\n",
       "75%       380.000000\n",
       "max       730.000000\n",
       "Name: order_amount, dtype: float64"
      ]
     },
     "execution_count": 16,
     "metadata": {},
     "output_type": "execute_result"
    }
   ],
   "source": [
    "df_without_outliers.describe()"
   ]
  },
  {
   "cell_type": "markdown",
   "metadata": {},
   "source": [
    "# Part 2"
   ]
  },
  {
   "cell_type": "markdown",
   "metadata": {},
   "source": [
    "### **Question 1** : How many orders were shipped by Speedy Express in total?\n",
    "\n",
    "**Solution** : 54\n",
    "\n",
    "`\n",
    "    SELECT COUNT(DISTINCT OrderID) AS speedy_shipped\n",
    "    FROM Orders\n",
    "    JOIN Shippers \n",
    "    ON Orders.ShipperID = Shippers.ShipperID\n",
    "    WHERE Shippers.ShipperName = \"Speedy Express\";\n",
    "`"
   ]
  },
  {
   "cell_type": "markdown",
   "metadata": {},
   "source": [
    "**Explanation**:\n",
    "To find how many orders were shipped by Speedy Express, I: \n",
    "1. Joined the Orders and Shippers table on ShipperID \n",
    "2. Use COUNT and DISTINCT to find the unique orders that have been shipped\n",
    "3. Then I used WHERE to find \"Speedy Express\" "
   ]
  },
  {
   "cell_type": "markdown",
   "metadata": {},
   "source": [
    "### **Question 2** : What is the last name of the employee with the most orders?\n",
    "\n",
    "**Solution** : Peacock\n",
    "\n",
    "` \n",
    "    SELECT a.LastName \n",
    "    FROM Employees as a, \n",
    "        (SELECT EmployeeID, \n",
    "            COUNT(*) as TotalOrder\n",
    "            FROM Orders GROUP BY EmployeeID\n",
    "            ORDER BY TotalOrder DESC LIMIT 1) as b \n",
    "    WHERE a.EmployeeID = b.EmployeeID;\n",
    "`"
   ]
  },
  {
   "cell_type": "markdown",
   "metadata": {},
   "source": [
    "**Explanation**: \n",
    "Let's break it down! \n",
    "\n",
    "In this part, I took the table TotalOrder and **grouped by** Employee ID. When grouping I used COUNT(\\*) to count the total number of orders each employee made (Denoted as TotalOrder). Then, I **ordered** TotalOrder in descending order and used LIMIT 1 to isolate the employee with the highest amount of order. \n",
    "\n",
    "Let's denote this TABLE_A for the next part. \n",
    "\n",
    "`\n",
    "    SELECT EmployeeID, \n",
    "    COUNT(*) as TotalOrder\n",
    "    FROM Orders GROUP BY EmployeeID\n",
    "    ORDER BY TotalOrder DESC LIMIT 1;\n",
    "`\n",
    "    \n",
    "\n",
    "Then finally, I found the Employee's last name whose ID equals that ID of the only remaining Employee in TABLE_A.   \n",
    "\n",
    "`\n",
    "    SELECT a.LastName \n",
    "    FROM Employees as a, TABLE_A as b \n",
    "    WHERE a.EmployeeID = b.EmployeeID;\n",
    "`"
   ]
  },
  {
   "cell_type": "markdown",
   "metadata": {},
   "source": [
    "### **Question 3**: What product was ordered the most by customers in Germany?\n",
    "\n",
    "**Solution**: Boston Crab Meat\n",
    " \n",
    "`\n",
    "        SELECT p.ProductName, SUM(od.Quantity) AS TotalUnitsSold\n",
    "        FROM orderDetails as od \n",
    "        JOIN Orders as o \n",
    "            ON od.orderId=o.orderId\n",
    "        JOIN Products p \n",
    "            ON od.productId = p.productId\n",
    "        JOIN Customers c \n",
    "            ON o.customerId=c.customerId\n",
    "        WHERE c.country='Germany'\n",
    "        GROUP BY p.productId\n",
    "        ORDER BY TotalUnitsSold DESC\n",
    "        LIMIT 1; \n",
    "`"
   ]
  },
  {
   "cell_type": "markdown",
   "metadata": {},
   "source": [
    "**Explanation**: \n",
    "In this question, I am interpreting that \"ordered the most\" means the products with the highest units sold. If the question referred to product that appears in the most orders, then I would simply change SUM(od.Quantity) to COUNT(od.Quantity). \n",
    "\n",
    "First, I joined orderdetails, orders, products, and customers. Then, I know that we need the customers to be from Germany, so I used WHERE c.country = 'Germany' to filter from there. Then, we need to figure out which product sold the most units so I used GROUP BY to group by the productID and SUM to sum up the amount of units sold while grouping. Then finally, I ordered SUM(od.Quantity) in Descending order and LIMIT 1 to isolate the product with the highest amount of units sold. \n",
    "\n",
    "\n"
   ]
  }
 ],
 "metadata": {
  "kernelspec": {
   "display_name": "Python 3",
   "language": "python",
   "name": "python3"
  },
  "language_info": {
   "codemirror_mode": {
    "name": "ipython",
    "version": 3
   },
   "file_extension": ".py",
   "mimetype": "text/x-python",
   "name": "python",
   "nbconvert_exporter": "python",
   "pygments_lexer": "ipython3",
   "version": "3.8.5"
  }
 },
 "nbformat": 4,
 "nbformat_minor": 4
}
